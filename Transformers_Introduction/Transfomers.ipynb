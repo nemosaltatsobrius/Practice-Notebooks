{
 "cells": [
  {
   "cell_type": "code",
   "execution_count": 1,
   "id": "3cfd4f01-8535-48bb-9fe4-8b7ae0ff2b4d",
   "metadata": {},
   "outputs": [
    {
     "name": "stdout",
     "output_type": "stream",
     "text": [
      "Note: you may need to restart the kernel to use updated packages.\n",
      "Transformers version: 4.53.2\n",
      "PyTorch version: 2.7.1+cpu\n",
      "Datasets version: 4.0.0\n"
     ]
    }
   ],
   "source": [
    "# Install required packages if not already installed\n",
    "%pip install --quiet transformers torch datasets pillow\n",
    "\n",
    "# Verify installations\n",
    "import transformers\n",
    "import torch\n",
    "import datasets\n",
    "\n",
    "print(f\"Transformers version: {transformers.__version__}\")\n",
    "print(f\"PyTorch version: {torch.__version__}\")\n",
    "print(f\"Datasets version: {datasets.__version__}\")"
   ]
  },
  {
   "cell_type": "code",
   "execution_count": 2,
   "id": "9378587b-8360-4916-907c-a6c17d9bad20",
   "metadata": {},
   "outputs": [
    {
     "name": "stderr",
     "output_type": "stream",
     "text": [
      "Some weights of the model checkpoint at cardiffnlp/twitter-roberta-base-sentiment-latest were not used when initializing RobertaForSequenceClassification: ['roberta.pooler.dense.bias', 'roberta.pooler.dense.weight']\n",
      "- This IS expected if you are initializing RobertaForSequenceClassification from the checkpoint of a model trained on another task or with another architecture (e.g. initializing a BertForSequenceClassification model from a BertForPreTraining model).\n",
      "- This IS NOT expected if you are initializing RobertaForSequenceClassification from the checkpoint of a model that you expect to be exactly identical (initializing a BertForSequenceClassification model from a BertForSequenceClassification model).\n",
      "Device set to use cpu\n"
     ]
    },
    {
     "name": "stdout",
     "output_type": "stream",
     "text": [
      "Text: I'm loving this update!\n",
      "Sentiment: positive, Score: 0.9879\n",
      "\n",
      "Text: This is trash, I'm disappointed.\n",
      "Sentiment: negative, Score: 0.9461\n",
      "\n",
      "Text: Not sure how I feel about the changes.\n",
      "Sentiment: negative, Score: 0.5745\n",
      "\n"
     ]
    }
   ],
   "source": [
    "from transformers import AutoTokenizer, AutoModelForSequenceClassification, pipeline\n",
    "import torch\n",
    "\n",
    "# Load tokenizer and model\n",
    "model_name = \"cardiffnlp/twitter-roberta-base-sentiment-latest\"\n",
    "tokenizer = AutoTokenizer.from_pretrained(model_name)\n",
    "model = AutoModelForSequenceClassification.from_pretrained(model_name)\n",
    "\n",
    "# Set up the pipeline\n",
    "classifier = pipeline(\"sentiment-analysis\", model=model, tokenizer=tokenizer)\n",
    "\n",
    "# Example text\n",
    "texts = [\n",
    "    \"I'm loving this update!\",\n",
    "    \"This is trash, I'm disappointed.\",\n",
    "    \"Not sure how I feel about the changes.\"\n",
    "]\n",
    "\n",
    "# Get predictions\n",
    "for text in texts:\n",
    "    result = classifier(text)[0]\n",
    "    print(f\"Text: {text}\")\n",
    "    print(f\"Sentiment: {result['label']}, Score: {result['score']:.4f}\\n\")\n"
   ]
  },
  {
   "cell_type": "code",
   "execution_count": 3,
   "id": "d53b0359-b54e-4777-a35d-5fd733612a41",
   "metadata": {},
   "outputs": [
    {
     "name": "stderr",
     "output_type": "stream",
     "text": [
      "Device set to use cpu\n"
     ]
    },
    {
     "name": "stdout",
     "output_type": "stream",
     "text": [
      "{'label': 'Egyptian cat', 'score': 0.8234645128250122}\n",
      "{'label': 'tabby, tabby cat', 'score': 0.11641877889633179}\n",
      "{'label': 'tiger cat', 'score': 0.053732335567474365}\n",
      "{'label': 'lynx, catamount', 'score': 0.0012239273637533188}\n",
      "{'label': 'Siamese cat, Siamese', 'score': 0.00013562229287344962}\n"
     ]
    }
   ],
   "source": [
    "from transformers import pipeline\n",
    "from PIL import Image\n",
    "# Load an image classification pipeline\n",
    "image_classifier = pipeline(\"image-classification\", model=\"google/vit-base-patch16-224\")\n",
    "# Load an image\n",
    "image = Image.open(\"dog.png\")  # Use any local image path\n",
    "# Perform classification\n",
    "results = image_classifier(image)\n",
    "for result in results:\n",
    "  print(result)"
   ]
  },
  {
   "cell_type": "code",
   "execution_count": 4,
   "id": "87fbaa28-c37a-4f05-a7d4-2d25d9747228",
   "metadata": {},
   "outputs": [
    {
     "name": "stderr",
     "output_type": "stream",
     "text": [
      "Some weights of Wav2Vec2ForCTC were not initialized from the model checkpoint at facebook/wav2vec2-base-960h and are newly initialized: ['wav2vec2.masked_spec_embed']\n",
      "You should probably TRAIN this model on a down-stream task to be able to use it for predictions and inference.\n",
      "Device set to use cpu\n"
     ]
    },
    {
     "name": "stdout",
     "output_type": "stream",
     "text": [
      "Transcription: THE STALE SMELL OF OLD BEER LINGERS IT TAKES HEAT TO BRING OUT THE ODOR A COLD DIP RESTORES HEALTH AND ZEST A SALT PICKLE TASTES FINE WITH HAM TAKOS AL PASTORE ARE MY FAVORITE A ZESTFUL FOOD IS THE HOT CROSS BUN\n"
     ]
    }
   ],
   "source": [
    "from transformers import pipeline\n",
    " \n",
    "# Load a speech recognition pipeline\n",
    "speech_recognizer = pipeline(\"automatic-speech-recognition\", model=\"facebook/wav2vec2-base-960h\")\n",
    " \n",
    "# Load an audio file (must be a .wav file)\n",
    "audio_file = \"harvard.wav\"\n",
    " \n",
    "# Transcribe the audio\n",
    "result = speech_recognizer(audio_file)\n",
    "print(\"Transcription:\", result['text'])"
   ]
  },
  {
   "cell_type": "code",
   "execution_count": 7,
   "id": "18214c35-b623-4f20-9759-26016b4f2274",
   "metadata": {},
   "outputs": [
    {
     "name": "stderr",
     "output_type": "stream",
     "text": [
      "Some weights of BertForSequenceClassification were not initialized from the model checkpoint at bert-base-uncased and are newly initialized: ['classifier.bias', 'classifier.weight']\n",
      "You should probably TRAIN this model on a down-stream task to be able to use it for predictions and inference.\n"
     ]
    },
    {
     "name": "stdout",
     "output_type": "stream",
     "text": [
      "Tokenized input: {'input_ids': tensor([[  101,  2023,  2003,  1037,  7099,  3793,  2005,  2986,  1011, 17372,\n",
      "         10467,  1012,  2023,  4247,  1996,  6251,  1012,  2085,  2023,  2003,\n",
      "          2178,  6251,  1999,  1037,  3584,  2240,  1012,   102]]), 'token_type_ids': tensor([[0, 0, 0, 0, 0, 0, 0, 0, 0, 0, 0, 0, 0, 0, 0, 0, 0, 0, 0, 0, 0, 0, 0, 0,\n",
      "         0, 0, 0, 0]]), 'attention_mask': tensor([[1, 1, 1, 1, 1, 1, 1, 1, 1, 1, 1, 1, 1, 1, 1, 1, 1, 1, 1, 1, 1, 1, 1, 1,\n",
      "         1, 1, 1, 1]])}\n"
     ]
    }
   ],
   "source": [
    "from transformers import AutoTokenizer, AutoModelForSequenceClassification\n",
    " \n",
    "# Load model and tokenizer\n",
    "tokenizer = AutoTokenizer.from_pretrained(\"bert-base-uncased\")\n",
    "model = AutoModelForSequenceClassification.from_pretrained(\"bert-base-uncased\", num_labels=2)\n",
    " \n",
    "# Example text\n",
    "text = '''\n",
    "This is a sample text for fine-tuning demonstration. This continues the sentence.\n",
    "Now this is another sentence in a separate line.\n",
    "'''\n",
    " \n",
    "# Tokenize\n",
    "inputs = tokenizer(text, return_tensors=\"pt\")\n",
    "print(\"Tokenized input:\", inputs)"
   ]
  },
  {
   "cell_type": "code",
   "execution_count": null,
   "id": "0080f504-65a2-4abd-872f-6a4acad965ff",
   "metadata": {},
   "outputs": [],
   "source": []
  }
 ],
 "metadata": {
  "kernelspec": {
   "display_name": "Python 3 (ipykernel)",
   "language": "python",
   "name": "python3"
  },
  "language_info": {
   "codemirror_mode": {
    "name": "ipython",
    "version": 3
   },
   "file_extension": ".py",
   "mimetype": "text/x-python",
   "name": "python",
   "nbconvert_exporter": "python",
   "pygments_lexer": "ipython3",
   "version": "3.13.5"
  }
 },
 "nbformat": 4,
 "nbformat_minor": 5
}
